{
 "cells": [
  {
   "cell_type": "markdown",
   "metadata": {},
   "source": [
    "# Pokemon Masterdom Through Data Analysis"
   ]
  },
  {
   "cell_type": "markdown",
   "metadata": {},
   "source": [
    "Pokemon has been a staple of the cultural zeitgeist since the initial release of Pokemon Red & Blue in 1996. It is a roleplaying game where statistics and types of each Pokemon (pocket monster) have implications for how they perform in battle. \n",
    "    Our goal is to use the Data Exploration techniques that we have learned thus far to learn more about Pokemon through all of its generations (game releases). This dataset was obtained from kaggle and was compiled by its creator from multiple sources. "
   ]
  },
  {
   "cell_type": "code",
   "execution_count": 1,
   "metadata": {},
   "outputs": [
    {
     "data": {
      "text/html": [
       "<div>\n",
       "<style scoped>\n",
       "    .dataframe tbody tr th:only-of-type {\n",
       "        vertical-align: middle;\n",
       "    }\n",
       "\n",
       "    .dataframe tbody tr th {\n",
       "        vertical-align: top;\n",
       "    }\n",
       "\n",
       "    .dataframe thead th {\n",
       "        text-align: right;\n",
       "    }\n",
       "</style>\n",
       "<table border=\"1\" class=\"dataframe\">\n",
       "  <thead>\n",
       "    <tr style=\"text-align: right;\">\n",
       "      <th></th>\n",
       "      <th>#</th>\n",
       "      <th>Type 1</th>\n",
       "      <th>Type 2</th>\n",
       "      <th>Total</th>\n",
       "      <th>HP</th>\n",
       "      <th>Attack</th>\n",
       "      <th>Defense</th>\n",
       "      <th>Sp. Atk</th>\n",
       "      <th>Sp. Def</th>\n",
       "      <th>Speed</th>\n",
       "      <th>Generation</th>\n",
       "      <th>Legendary</th>\n",
       "    </tr>\n",
       "    <tr>\n",
       "      <th>Name</th>\n",
       "      <th></th>\n",
       "      <th></th>\n",
       "      <th></th>\n",
       "      <th></th>\n",
       "      <th></th>\n",
       "      <th></th>\n",
       "      <th></th>\n",
       "      <th></th>\n",
       "      <th></th>\n",
       "      <th></th>\n",
       "      <th></th>\n",
       "      <th></th>\n",
       "    </tr>\n",
       "  </thead>\n",
       "  <tbody>\n",
       "    <tr>\n",
       "      <th>Bulbasaur</th>\n",
       "      <td>1</td>\n",
       "      <td>Grass</td>\n",
       "      <td>Poison</td>\n",
       "      <td>318</td>\n",
       "      <td>45</td>\n",
       "      <td>49</td>\n",
       "      <td>49</td>\n",
       "      <td>65</td>\n",
       "      <td>65</td>\n",
       "      <td>45</td>\n",
       "      <td>1</td>\n",
       "      <td>False</td>\n",
       "    </tr>\n",
       "    <tr>\n",
       "      <th>Ivysaur</th>\n",
       "      <td>2</td>\n",
       "      <td>Grass</td>\n",
       "      <td>Poison</td>\n",
       "      <td>405</td>\n",
       "      <td>60</td>\n",
       "      <td>62</td>\n",
       "      <td>63</td>\n",
       "      <td>80</td>\n",
       "      <td>80</td>\n",
       "      <td>60</td>\n",
       "      <td>1</td>\n",
       "      <td>False</td>\n",
       "    </tr>\n",
       "    <tr>\n",
       "      <th>Venusaur</th>\n",
       "      <td>3</td>\n",
       "      <td>Grass</td>\n",
       "      <td>Poison</td>\n",
       "      <td>525</td>\n",
       "      <td>80</td>\n",
       "      <td>82</td>\n",
       "      <td>83</td>\n",
       "      <td>100</td>\n",
       "      <td>100</td>\n",
       "      <td>80</td>\n",
       "      <td>1</td>\n",
       "      <td>False</td>\n",
       "    </tr>\n",
       "    <tr>\n",
       "      <th>VenusaurMega Venusaur</th>\n",
       "      <td>3</td>\n",
       "      <td>Grass</td>\n",
       "      <td>Poison</td>\n",
       "      <td>625</td>\n",
       "      <td>80</td>\n",
       "      <td>100</td>\n",
       "      <td>123</td>\n",
       "      <td>122</td>\n",
       "      <td>120</td>\n",
       "      <td>80</td>\n",
       "      <td>1</td>\n",
       "      <td>False</td>\n",
       "    </tr>\n",
       "    <tr>\n",
       "      <th>Charmander</th>\n",
       "      <td>4</td>\n",
       "      <td>Fire</td>\n",
       "      <td>NaN</td>\n",
       "      <td>309</td>\n",
       "      <td>39</td>\n",
       "      <td>52</td>\n",
       "      <td>43</td>\n",
       "      <td>60</td>\n",
       "      <td>50</td>\n",
       "      <td>65</td>\n",
       "      <td>1</td>\n",
       "      <td>False</td>\n",
       "    </tr>\n",
       "  </tbody>\n",
       "</table>\n",
       "</div>"
      ],
      "text/plain": [
       "                       # Type 1  Type 2  Total  HP  Attack  Defense  Sp. Atk  \\\n",
       "Name                                                                           \n",
       "Bulbasaur              1  Grass  Poison    318  45      49       49       65   \n",
       "Ivysaur                2  Grass  Poison    405  60      62       63       80   \n",
       "Venusaur               3  Grass  Poison    525  80      82       83      100   \n",
       "VenusaurMega Venusaur  3  Grass  Poison    625  80     100      123      122   \n",
       "Charmander             4   Fire     NaN    309  39      52       43       60   \n",
       "\n",
       "                       Sp. Def  Speed  Generation  Legendary  \n",
       "Name                                                          \n",
       "Bulbasaur                   65     45           1      False  \n",
       "Ivysaur                     80     60           1      False  \n",
       "Venusaur                   100     80           1      False  \n",
       "VenusaurMega Venusaur      120     80           1      False  \n",
       "Charmander                  50     65           1      False  "
      ]
     },
     "execution_count": 1,
     "metadata": {},
     "output_type": "execute_result"
    }
   ],
   "source": [
    "import pandas as pd\n",
    "pokemon = pd.read_csv('../data/pokemon.csv', index_col = 'Name')\n",
    "pokemon.head()"
   ]
  },
  {
   "cell_type": "markdown",
   "metadata": {},
   "source": [
    "### Exercise 1\n",
    "<span  style=\"color:green; font-size:16px\">How many Pokemon and their variations are included in Generation 1?</span>"
   ]
  },
  {
   "cell_type": "code",
   "execution_count": 2,
   "metadata": {},
   "outputs": [
    {
     "data": {
      "text/plain": [
       "#             166\n",
       "Type 1        166\n",
       "Type 2         78\n",
       "Total         166\n",
       "HP            166\n",
       "Attack        166\n",
       "Defense       166\n",
       "Sp. Atk       166\n",
       "Sp. Def       166\n",
       "Speed         166\n",
       "Generation    166\n",
       "Legendary     166\n",
       "dtype: int64"
      ]
     },
     "execution_count": 2,
     "metadata": {},
     "output_type": "execute_result"
    }
   ],
   "source": [
    "filt = pokemon['Generation']==1\n",
    "gen1 = pokemon[filt]\n",
    "gen1.count()"
   ]
  },
  {
   "cell_type": "markdown",
   "metadata": {},
   "source": [
    "### Exercise 2\n",
    "<span  style=\"color:green; font-size:16px\">Pokemon types have important consequences for gameplay as some are stronger or weaker against varying types--think rock, paper, scissors. Is there a relatively even distribution of types in Generation 1?</span>"
   ]
  },
  {
   "cell_type": "code",
   "execution_count": 3,
   "metadata": {},
   "outputs": [
    {
     "data": {
      "text/plain": [
       "Poison      36\n",
       "Water       35\n",
       "Normal      24\n",
       "Flying      23\n",
       "Psychic     18\n",
       "Grass       15\n",
       "Ground      14\n",
       "Fire        14\n",
       "Bug         14\n",
       "Rock        12\n",
       "Fighting     9\n",
       "Electric     9\n",
       "Ice          5\n",
       "Fairy        5\n",
       "Ghost        4\n",
       "Dragon       4\n",
       "Steel        2\n",
       "Dark         1\n",
       "Name: value, dtype: int64"
      ]
     },
     "execution_count": 3,
     "metadata": {},
     "output_type": "execute_result"
    }
   ],
   "source": [
    "melting = gen1.melt(value_vars = ['Type 1', 'Type 2'])\n",
    "gen1types = melting['value']\n",
    "gen1types.value_counts()"
   ]
  },
  {
   "cell_type": "markdown",
   "metadata": {},
   "source": [
    "### Exercise 3\n",
    "<span  style=\"color:green; font-size:16px\">Display the types from Exercise 2 as a percentage.</span>"
   ]
  },
  {
   "cell_type": "code",
   "execution_count": 4,
   "metadata": {},
   "outputs": [
    {
     "data": {
      "text/plain": [
       "Poison      14.754098\n",
       "Water       14.344262\n",
       "Normal       9.836066\n",
       "Flying       9.426230\n",
       "Psychic      7.377049\n",
       "Grass        6.147541\n",
       "Ground       5.737705\n",
       "Fire         5.737705\n",
       "Bug          5.737705\n",
       "Rock         4.918033\n",
       "Fighting     3.688525\n",
       "Electric     3.688525\n",
       "Ice          2.049180\n",
       "Fairy        2.049180\n",
       "Ghost        1.639344\n",
       "Dragon       1.639344\n",
       "Steel        0.819672\n",
       "Dark         0.409836\n",
       "Name: value, dtype: float64"
      ]
     },
     "execution_count": 4,
     "metadata": {},
     "output_type": "execute_result"
    }
   ],
   "source": [
    "gen1types.value_counts(normalize = True)*100"
   ]
  },
  {
   "cell_type": "markdown",
   "metadata": {},
   "source": [
    "### Exercise 4\n",
    "<span  style=\"color:green; font-size:16px\"> The distribution of types in Generation 1 appear very uneven. Did future generations try to make this distribution more equitable? Do an analysis of all generations.</span>"
   ]
  },
  {
   "cell_type": "code",
   "execution_count": 5,
   "metadata": {},
   "outputs": [
    {
     "data": {
      "text/plain": [
       "Water       126\n",
       "Normal      102\n",
       "Flying      101\n",
       "Grass        95\n",
       "Psychic      90\n",
       "Bug          72\n",
       "Ground       67\n",
       "Fire         64\n",
       "Poison       62\n",
       "Rock         58\n",
       "Fighting     53\n",
       "Dark         51\n",
       "Dragon       50\n",
       "Electric     50\n",
       "Steel        49\n",
       "Ghost        46\n",
       "Fairy        40\n",
       "Ice          38\n",
       "Name: value, dtype: int64"
      ]
     },
     "execution_count": 5,
     "metadata": {},
     "output_type": "execute_result"
    }
   ],
   "source": [
    "melting2 = pokemon.melt(value_vars = ['Type 1', 'Type 2'])\n",
    "alltypes = melting2['value']\n",
    "alltypes.value_counts()"
   ]
  },
  {
   "cell_type": "markdown",
   "metadata": {},
   "source": [
    "### Exercise 5\n",
    "<span  style=\"color:green; font-size:16px\"> What is the highest stat on average for all Pokemon? (HP through Speed)</span>"
   ]
  },
  {
   "cell_type": "code",
   "execution_count": 6,
   "metadata": {},
   "outputs": [
    {
     "data": {
      "text/plain": [
       "HP         69.25875\n",
       "Attack     79.00125\n",
       "Defense    73.84250\n",
       "Sp. Atk    72.82000\n",
       "Sp. Def    71.90250\n",
       "Speed      68.27750\n",
       "dtype: float64"
      ]
     },
     "execution_count": 6,
     "metadata": {},
     "output_type": "execute_result"
    }
   ],
   "source": [
    "stats = pokemon.loc[:,'HP': 'Speed']\n",
    "stats.mean()"
   ]
  },
  {
   "cell_type": "markdown",
   "metadata": {},
   "source": [
    "### Exercise 6\n",
    "<span  style=\"color:green; font-size:16px\"> What is the highest median stat for Dark type Pokemon? Include any Pokemon that may only be considered Dark as a secondary type (Type 2).</span>"
   ]
  },
  {
   "cell_type": "code",
   "execution_count": 7,
   "metadata": {},
   "outputs": [
    {
     "data": {
      "text/plain": [
       "HP         70.0\n",
       "Attack     90.0\n",
       "Defense    67.0\n",
       "Sp. Atk    70.0\n",
       "Sp. Def    65.0\n",
       "Speed      71.0\n",
       "dtype: float64"
      ]
     },
     "execution_count": 7,
     "metadata": {},
     "output_type": "execute_result"
    }
   ],
   "source": [
    "dark = (pokemon['Type 1'] == 'Dark')| (pokemon['Type 2'] == 'Dark')\n",
    "darkpoke = pokemon[dark]\n",
    "darkpoke.loc[:, 'HP': 'Speed'].median()"
   ]
  },
  {
   "cell_type": "markdown",
   "metadata": {},
   "source": [
    "### Exercise 7\n",
    "<span  style=\"color:green; font-size:16px\"> Legendary Pokemon are supposed to be the most powerful. What is the average difference in total stats between Legendary and non-Legendary Pokemon?</span>"
   ]
  },
  {
   "cell_type": "code",
   "execution_count": 8,
   "metadata": {},
   "outputs": [],
   "source": [
    "legfilt = pokemon['Legendary'] == True\n",
    "leg = pokemon[legfilt]"
   ]
  },
  {
   "cell_type": "code",
   "execution_count": 9,
   "metadata": {},
   "outputs": [
    {
     "data": {
      "text/plain": [
       "637.3846153846154"
      ]
     },
     "execution_count": 9,
     "metadata": {},
     "output_type": "execute_result"
    }
   ],
   "source": [
    "legtotal = leg['Total']\n",
    "legtotal.mean()"
   ]
  },
  {
   "cell_type": "code",
   "execution_count": 10,
   "metadata": {},
   "outputs": [],
   "source": [
    "nonlegfilt = pokemon['Legendary'] == False\n",
    "nonleg = pokemon[nonlegfilt] "
   ]
  },
  {
   "cell_type": "code",
   "execution_count": 11,
   "metadata": {},
   "outputs": [
    {
     "data": {
      "text/plain": [
       "417.21360544217686"
      ]
     },
     "execution_count": 11,
     "metadata": {},
     "output_type": "execute_result"
    }
   ],
   "source": [
    "nonlegtotal = nonleg['Total']\n",
    "nonlegtotal.mean()"
   ]
  },
  {
   "cell_type": "code",
   "execution_count": 12,
   "metadata": {},
   "outputs": [
    {
     "data": {
      "text/plain": [
       "220.1710099424385"
      ]
     },
     "execution_count": 12,
     "metadata": {},
     "output_type": "execute_result"
    }
   ],
   "source": [
    "legtotal.mean() - nonlegtotal.mean()"
   ]
  },
  {
   "cell_type": "markdown",
   "metadata": {},
   "source": [
    "### Exercise 8\n",
    "<span  style=\"color:green; font-size:16px\"> You can only carry 6 Pokemon into battle. Find the Pokemon with the highest total stats of each of these primary types (Type 1): Fire, Water, Grass, Psychic, Fighting, Electric.</span>"
   ]
  },
  {
   "cell_type": "code",
   "execution_count": 13,
   "metadata": {},
   "outputs": [
    {
     "data": {
      "text/html": [
       "<div>\n",
       "<style scoped>\n",
       "    .dataframe tbody tr th:only-of-type {\n",
       "        vertical-align: middle;\n",
       "    }\n",
       "\n",
       "    .dataframe tbody tr th {\n",
       "        vertical-align: top;\n",
       "    }\n",
       "\n",
       "    .dataframe thead th {\n",
       "        text-align: right;\n",
       "    }\n",
       "</style>\n",
       "<table border=\"1\" class=\"dataframe\">\n",
       "  <thead>\n",
       "    <tr style=\"text-align: right;\">\n",
       "      <th></th>\n",
       "      <th>Total</th>\n",
       "    </tr>\n",
       "    <tr>\n",
       "      <th>Type 1</th>\n",
       "      <th></th>\n",
       "    </tr>\n",
       "  </thead>\n",
       "  <tbody>\n",
       "    <tr>\n",
       "      <th>Bug</th>\n",
       "      <td>PinsirMega Pinsir</td>\n",
       "    </tr>\n",
       "    <tr>\n",
       "      <th>Dark</th>\n",
       "      <td>Yveltal</td>\n",
       "    </tr>\n",
       "    <tr>\n",
       "      <th>Dragon</th>\n",
       "      <td>RayquazaMega Rayquaza</td>\n",
       "    </tr>\n",
       "    <tr>\n",
       "      <th>Electric</th>\n",
       "      <td>AmpharosMega Ampharos</td>\n",
       "    </tr>\n",
       "    <tr>\n",
       "      <th>Fairy</th>\n",
       "      <td>Xerneas</td>\n",
       "    </tr>\n",
       "    <tr>\n",
       "      <th>Fighting</th>\n",
       "      <td>LucarioMega Lucario</td>\n",
       "    </tr>\n",
       "    <tr>\n",
       "      <th>Fire</th>\n",
       "      <td>Ho-oh</td>\n",
       "    </tr>\n",
       "    <tr>\n",
       "      <th>Flying</th>\n",
       "      <td>TornadusIncarnate Forme</td>\n",
       "    </tr>\n",
       "    <tr>\n",
       "      <th>Ghost</th>\n",
       "      <td>GiratinaAltered Forme</td>\n",
       "    </tr>\n",
       "    <tr>\n",
       "      <th>Grass</th>\n",
       "      <td>SceptileMega Sceptile</td>\n",
       "    </tr>\n",
       "    <tr>\n",
       "      <th>Ground</th>\n",
       "      <td>GroudonPrimal Groudon</td>\n",
       "    </tr>\n",
       "    <tr>\n",
       "      <th>Ice</th>\n",
       "      <td>Articuno</td>\n",
       "    </tr>\n",
       "    <tr>\n",
       "      <th>Normal</th>\n",
       "      <td>Arceus</td>\n",
       "    </tr>\n",
       "    <tr>\n",
       "      <th>Poison</th>\n",
       "      <td>Crobat</td>\n",
       "    </tr>\n",
       "    <tr>\n",
       "      <th>Psychic</th>\n",
       "      <td>MewtwoMega Mewtwo X</td>\n",
       "    </tr>\n",
       "    <tr>\n",
       "      <th>Rock</th>\n",
       "      <td>TyranitarMega Tyranitar</td>\n",
       "    </tr>\n",
       "    <tr>\n",
       "      <th>Steel</th>\n",
       "      <td>MetagrossMega Metagross</td>\n",
       "    </tr>\n",
       "    <tr>\n",
       "      <th>Water</th>\n",
       "      <td>KyogrePrimal Kyogre</td>\n",
       "    </tr>\n",
       "  </tbody>\n",
       "</table>\n",
       "</div>"
      ],
      "text/plain": [
       "                            Total\n",
       "Type 1                           \n",
       "Bug             PinsirMega Pinsir\n",
       "Dark                      Yveltal\n",
       "Dragon      RayquazaMega Rayquaza\n",
       "Electric    AmpharosMega Ampharos\n",
       "Fairy                     Xerneas\n",
       "Fighting      LucarioMega Lucario\n",
       "Fire                        Ho-oh\n",
       "Flying    TornadusIncarnate Forme\n",
       "Ghost       GiratinaAltered Forme\n",
       "Grass       SceptileMega Sceptile\n",
       "Ground      GroudonPrimal Groudon\n",
       "Ice                      Articuno\n",
       "Normal                     Arceus\n",
       "Poison                     Crobat\n",
       "Psychic       MewtwoMega Mewtwo X\n",
       "Rock      TyranitarMega Tyranitar\n",
       "Steel     MetagrossMega Metagross\n",
       "Water         KyogrePrimal Kyogre"
      ]
     },
     "execution_count": 13,
     "metadata": {},
     "output_type": "execute_result"
    }
   ],
   "source": [
    "pokemon.groupby(['Type 1']).agg({'Total':'idxmax'})"
   ]
  },
  {
   "cell_type": "markdown",
   "metadata": {},
   "source": [
    "### Exercise 9\n",
    "<span  style=\"color:green; font-size:16px\"> What is the highest average stat for each of those primary types in Exercise 8? (Fire, Water, Grass, Psychic, Fighting, Electric) Hint: Write a function to save time.</span>"
   ]
  },
  {
   "cell_type": "code",
   "execution_count": 14,
   "metadata": {},
   "outputs": [],
   "source": [
    "def higheststat(type1):\n",
    "    filt = pokemon['Type 1'] == type1\n",
    "    stats = pokemon.loc[filt,'HP':'Speed']\n",
    "    return stats.mean()"
   ]
  },
  {
   "cell_type": "code",
   "execution_count": 15,
   "metadata": {},
   "outputs": [
    {
     "data": {
      "text/plain": [
       "HP         69.903846\n",
       "Attack     84.769231\n",
       "Defense    67.769231\n",
       "Sp. Atk    88.980769\n",
       "Sp. Def    72.211538\n",
       "Speed      74.442308\n",
       "dtype: float64"
      ]
     },
     "execution_count": 15,
     "metadata": {},
     "output_type": "execute_result"
    }
   ],
   "source": [
    "higheststat('Fire')"
   ]
  },
  {
   "cell_type": "code",
   "execution_count": 16,
   "metadata": {},
   "outputs": [
    {
     "data": {
      "text/plain": [
       "HP         72.062500\n",
       "Attack     74.151786\n",
       "Defense    72.946429\n",
       "Sp. Atk    74.812500\n",
       "Sp. Def    70.517857\n",
       "Speed      65.964286\n",
       "dtype: float64"
      ]
     },
     "execution_count": 16,
     "metadata": {},
     "output_type": "execute_result"
    }
   ],
   "source": [
    "higheststat('Water')"
   ]
  },
  {
   "cell_type": "code",
   "execution_count": 17,
   "metadata": {},
   "outputs": [
    {
     "data": {
      "text/plain": [
       "HP         67.271429\n",
       "Attack     73.214286\n",
       "Defense    70.800000\n",
       "Sp. Atk    77.500000\n",
       "Sp. Def    70.428571\n",
       "Speed      61.928571\n",
       "dtype: float64"
      ]
     },
     "execution_count": 17,
     "metadata": {},
     "output_type": "execute_result"
    }
   ],
   "source": [
    "higheststat('Grass')"
   ]
  },
  {
   "cell_type": "code",
   "execution_count": 18,
   "metadata": {},
   "outputs": [
    {
     "data": {
      "text/plain": [
       "HP         70.631579\n",
       "Attack     71.456140\n",
       "Defense    67.684211\n",
       "Sp. Atk    98.403509\n",
       "Sp. Def    86.280702\n",
       "Speed      81.491228\n",
       "dtype: float64"
      ]
     },
     "execution_count": 18,
     "metadata": {},
     "output_type": "execute_result"
    }
   ],
   "source": [
    "higheststat('Psychic')"
   ]
  },
  {
   "cell_type": "code",
   "execution_count": 19,
   "metadata": {},
   "outputs": [
    {
     "data": {
      "text/plain": [
       "HP         69.851852\n",
       "Attack     96.777778\n",
       "Defense    65.925926\n",
       "Sp. Atk    53.111111\n",
       "Sp. Def    64.703704\n",
       "Speed      66.074074\n",
       "dtype: float64"
      ]
     },
     "execution_count": 19,
     "metadata": {},
     "output_type": "execute_result"
    }
   ],
   "source": [
    "higheststat('Fighting')"
   ]
  },
  {
   "cell_type": "code",
   "execution_count": 20,
   "metadata": {},
   "outputs": [
    {
     "data": {
      "text/plain": [
       "HP         59.795455\n",
       "Attack     69.090909\n",
       "Defense    66.295455\n",
       "Sp. Atk    90.022727\n",
       "Sp. Def    73.704545\n",
       "Speed      84.500000\n",
       "dtype: float64"
      ]
     },
     "execution_count": 20,
     "metadata": {},
     "output_type": "execute_result"
    }
   ],
   "source": [
    "higheststat('Electric')"
   ]
  },
  {
   "cell_type": "markdown",
   "metadata": {},
   "source": [
    "### Exercise 10\n",
    "<span  style=\"color:green; font-size:16px\"> Which Pokemon has the most speed? </span>"
   ]
  },
  {
   "cell_type": "code",
   "execution_count": 21,
   "metadata": {},
   "outputs": [
    {
     "data": {
      "text/html": [
       "<div>\n",
       "<style scoped>\n",
       "    .dataframe tbody tr th:only-of-type {\n",
       "        vertical-align: middle;\n",
       "    }\n",
       "\n",
       "    .dataframe tbody tr th {\n",
       "        vertical-align: top;\n",
       "    }\n",
       "\n",
       "    .dataframe thead th {\n",
       "        text-align: right;\n",
       "    }\n",
       "</style>\n",
       "<table border=\"1\" class=\"dataframe\">\n",
       "  <thead>\n",
       "    <tr style=\"text-align: right;\">\n",
       "      <th></th>\n",
       "      <th>#</th>\n",
       "      <th>Type 1</th>\n",
       "      <th>Type 2</th>\n",
       "      <th>Total</th>\n",
       "      <th>HP</th>\n",
       "      <th>Attack</th>\n",
       "      <th>Defense</th>\n",
       "      <th>Sp. Atk</th>\n",
       "      <th>Sp. Def</th>\n",
       "      <th>Speed</th>\n",
       "      <th>Generation</th>\n",
       "      <th>Legendary</th>\n",
       "    </tr>\n",
       "    <tr>\n",
       "      <th>Name</th>\n",
       "      <th></th>\n",
       "      <th></th>\n",
       "      <th></th>\n",
       "      <th></th>\n",
       "      <th></th>\n",
       "      <th></th>\n",
       "      <th></th>\n",
       "      <th></th>\n",
       "      <th></th>\n",
       "      <th></th>\n",
       "      <th></th>\n",
       "      <th></th>\n",
       "    </tr>\n",
       "  </thead>\n",
       "  <tbody>\n",
       "    <tr>\n",
       "      <th>DeoxysSpeed Forme</th>\n",
       "      <td>386</td>\n",
       "      <td>Psychic</td>\n",
       "      <td>NaN</td>\n",
       "      <td>600</td>\n",
       "      <td>50</td>\n",
       "      <td>95</td>\n",
       "      <td>90</td>\n",
       "      <td>95</td>\n",
       "      <td>90</td>\n",
       "      <td>180</td>\n",
       "      <td>3</td>\n",
       "      <td>True</td>\n",
       "    </tr>\n",
       "    <tr>\n",
       "      <th>Ninjask</th>\n",
       "      <td>291</td>\n",
       "      <td>Bug</td>\n",
       "      <td>Flying</td>\n",
       "      <td>456</td>\n",
       "      <td>61</td>\n",
       "      <td>90</td>\n",
       "      <td>45</td>\n",
       "      <td>50</td>\n",
       "      <td>50</td>\n",
       "      <td>160</td>\n",
       "      <td>3</td>\n",
       "      <td>False</td>\n",
       "    </tr>\n",
       "    <tr>\n",
       "      <th>DeoxysNormal Forme</th>\n",
       "      <td>386</td>\n",
       "      <td>Psychic</td>\n",
       "      <td>NaN</td>\n",
       "      <td>600</td>\n",
       "      <td>50</td>\n",
       "      <td>150</td>\n",
       "      <td>50</td>\n",
       "      <td>150</td>\n",
       "      <td>50</td>\n",
       "      <td>150</td>\n",
       "      <td>3</td>\n",
       "      <td>True</td>\n",
       "    </tr>\n",
       "    <tr>\n",
       "      <th>AerodactylMega Aerodactyl</th>\n",
       "      <td>142</td>\n",
       "      <td>Rock</td>\n",
       "      <td>Flying</td>\n",
       "      <td>615</td>\n",
       "      <td>80</td>\n",
       "      <td>135</td>\n",
       "      <td>85</td>\n",
       "      <td>70</td>\n",
       "      <td>95</td>\n",
       "      <td>150</td>\n",
       "      <td>1</td>\n",
       "      <td>False</td>\n",
       "    </tr>\n",
       "    <tr>\n",
       "      <th>AlakazamMega Alakazam</th>\n",
       "      <td>65</td>\n",
       "      <td>Psychic</td>\n",
       "      <td>NaN</td>\n",
       "      <td>590</td>\n",
       "      <td>55</td>\n",
       "      <td>50</td>\n",
       "      <td>65</td>\n",
       "      <td>175</td>\n",
       "      <td>95</td>\n",
       "      <td>150</td>\n",
       "      <td>1</td>\n",
       "      <td>False</td>\n",
       "    </tr>\n",
       "  </tbody>\n",
       "</table>\n",
       "</div>"
      ],
      "text/plain": [
       "                             #   Type 1  Type 2  Total  HP  Attack  Defense  \\\n",
       "Name                                                                          \n",
       "DeoxysSpeed Forme          386  Psychic     NaN    600  50      95       90   \n",
       "Ninjask                    291      Bug  Flying    456  61      90       45   \n",
       "DeoxysNormal Forme         386  Psychic     NaN    600  50     150       50   \n",
       "AerodactylMega Aerodactyl  142     Rock  Flying    615  80     135       85   \n",
       "AlakazamMega Alakazam       65  Psychic     NaN    590  55      50       65   \n",
       "\n",
       "                           Sp. Atk  Sp. Def  Speed  Generation  Legendary  \n",
       "Name                                                                       \n",
       "DeoxysSpeed Forme               95       90    180           3       True  \n",
       "Ninjask                         50       50    160           3      False  \n",
       "DeoxysNormal Forme             150       50    150           3       True  \n",
       "AerodactylMega Aerodactyl       70       95    150           1      False  \n",
       "AlakazamMega Alakazam          175       95    150           1      False  "
      ]
     },
     "execution_count": 21,
     "metadata": {},
     "output_type": "execute_result"
    }
   ],
   "source": [
    "pokemon.sort_values('Speed', ascending = False).head()"
   ]
  },
  {
   "cell_type": "markdown",
   "metadata": {},
   "source": [
    "### Exercise 11\n",
    "<span  style=\"color:green; font-size:16px\"> Which Generation has the strongest Pokemon on average (Total Stats)? </span>"
   ]
  },
  {
   "cell_type": "code",
   "execution_count": 22,
   "metadata": {},
   "outputs": [
    {
     "data": {
      "text/plain": [
       "426.81325301204816"
      ]
     },
     "execution_count": 22,
     "metadata": {},
     "output_type": "execute_result"
    }
   ],
   "source": [
    "gen1filt = pokemon['Generation'] == 1\n",
    "gen1 = pokemon[gen1filt]['Total'].mean()\n",
    "gen1"
   ]
  },
  {
   "cell_type": "code",
   "execution_count": 23,
   "metadata": {},
   "outputs": [
    {
     "data": {
      "text/plain": [
       "418.2830188679245"
      ]
     },
     "execution_count": 23,
     "metadata": {},
     "output_type": "execute_result"
    }
   ],
   "source": [
    "gen2filt = pokemon['Generation'] == 2\n",
    "gen2 = pokemon[gen2filt]['Total'].mean()\n",
    "gen2"
   ]
  },
  {
   "cell_type": "code",
   "execution_count": 24,
   "metadata": {},
   "outputs": [
    {
     "data": {
      "text/plain": [
       "436.225"
      ]
     },
     "execution_count": 24,
     "metadata": {},
     "output_type": "execute_result"
    }
   ],
   "source": [
    "gen3filt = pokemon['Generation'] == 3\n",
    "gen3 = pokemon[gen3filt]['Total'].mean()\n",
    "gen3"
   ]
  },
  {
   "cell_type": "code",
   "execution_count": 25,
   "metadata": {},
   "outputs": [
    {
     "data": {
      "text/plain": [
       "459.0165289256198"
      ]
     },
     "execution_count": 25,
     "metadata": {},
     "output_type": "execute_result"
    }
   ],
   "source": [
    "gen4filt = pokemon['Generation'] == 4\n",
    "gen4 = pokemon[gen4filt]['Total'].mean()\n",
    "gen4"
   ]
  },
  {
   "cell_type": "code",
   "execution_count": 26,
   "metadata": {},
   "outputs": [
    {
     "data": {
      "text/plain": [
       "434.9878787878788"
      ]
     },
     "execution_count": 26,
     "metadata": {},
     "output_type": "execute_result"
    }
   ],
   "source": [
    "gen5filt = pokemon['Generation'] == 5\n",
    "gen5 = pokemon[gen5filt]['Total'].mean()\n",
    "gen5"
   ]
  },
  {
   "cell_type": "code",
   "execution_count": 27,
   "metadata": {},
   "outputs": [
    {
     "data": {
      "text/plain": [
       "436.3780487804878"
      ]
     },
     "execution_count": 27,
     "metadata": {},
     "output_type": "execute_result"
    }
   ],
   "source": [
    "gen6filt = pokemon['Generation'] == 6\n",
    "gen6 = pokemon[gen6filt]['Total'].mean()\n",
    "gen6"
   ]
  }
 ],
 "metadata": {
  "kernelspec": {
   "display_name": "Python 3",
   "language": "python",
   "name": "python3"
  },
  "language_info": {
   "codemirror_mode": {
    "name": "ipython",
    "version": 3
   },
   "file_extension": ".py",
   "mimetype": "text/x-python",
   "name": "python",
   "nbconvert_exporter": "python",
   "pygments_lexer": "ipython3",
   "version": "3.7.6"
  }
 },
 "nbformat": 4,
 "nbformat_minor": 2
}
